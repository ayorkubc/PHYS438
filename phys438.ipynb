{
 "cells": [
  {
   "cell_type": "code",
   "execution_count": 39,
   "metadata": {},
   "outputs": [
    {
     "data": {
      "image/png": "[encoded data removed]",
      "text/plain": [
       "<Figure size 432x288 with 1 Axes>"
      ]
     },
     "metadata": {
      "needs_background": "light"
     },
     "output_type": "display_data"
    },
    {
     "name": "stdout",
     "output_type": "stream",
     "text": [
      "284.0774746290154\n",
      "380.6536548386031\n",
      "0.048956314390049396\n",
      "271.3172113790322\n"
     ]
    }
   ],
   "source": [
    "import numpy as np\n",
    "import matplotlib.pyplot as plt\n",
    "\n",
    "#m in kg (wikipedia)\n",
    "m = 500\n",
    "# SA - rough surface area estimate (m**2)\n",
    "SA = 6\n",
    "#Kleiber's Law BMR\n",
    "BMR_k = 3.6*m**(3/4)\n",
    "\n",
    "BMR = BMR_k\n",
    "\n",
    "#One Layer Conduction Model\n",
    "T_body = 310\n",
    "T_air = 223\n",
    "delta_t = T_air - T_body\n",
    "kappa_f = 0.0357\n",
    "#https://thermtest.com/applications/fur-thermal-conductivity-hfm\n",
    "delta_x = -(kappa_f*delta_t*SA)/BMR\n",
    "\n",
    "#Radiation Loss in Water\n",
    "T_water = 271 #K\n",
    "sigma = 5.67*10**(-8)\n",
    "epsilon = 1\n",
    "\n",
    "T_bear = (BMR/(SA*sigma)+T_water**4)**(1/4)\n",
    "\n",
    "#Heat Loss in Water (Surface Heat Transfer)\n",
    "# h_s of water in free convection ranges from 100-1000\n",
    "h_sw = 200\n",
    "T_fur = T_water + (BMR/(h_sw * SA))\n",
    "\n",
    "# Model 1: No Convection\n",
    "# conduction\n",
    "rho_p = 1000\n",
    "V= m/rho_p\n",
    "r = (3*V*np.pi/4)**(1/3)\n",
    "SA_2 = 4*np.pi*r**2\n",
    "paw_area = .2\n",
    "kappa_2 = 0.050 * paw_area/(SA_2)\n",
    "#T_1 = T_air + BMR/(4*np.pi*r*kappa_2)\n",
    "\n",
    "T_1 = np.linspace(230, 240, 100)\n",
    "p_rad = sigma*4*np.pi*(r**2)*(T_1**4 - T_air**4)\n",
    "#p_cond = (T_1-T_air)*4*np.pi*kappa_2\n",
    "p_cond = (T_1-T_air)*4*np.pi*1\n",
    "p_tot = p_rad+p_cond\n",
    "y = T_1*0 + BMR\n",
    "\n",
    "plt.plot(T_1, p_rad, 'b')\n",
    "plt.plot(T_1, p_cond, 'b')\n",
    "plt.plot(T_1, p_tot, 'r')\n",
    "plt.plot(T_1, y)\n",
    "plt.show()\n",
    "print(T_bear)\n",
    "print(BMR)\n",
    "print(delta_x)\n",
    "print(T_fur)\n"
   ]
  }
 ],
 "metadata": {
  "kernelspec": {
   "display_name": "Python 3",
   "language": "python",
   "name": "python3"
  },
  "language_info": {
   "codemirror_mode": {
    "name": "ipython",
    "version": 3
   },
   "file_extension": ".py",
   "mimetype": "text/x-python",
   "name": "python",
   "nbconvert_exporter": "python",
   "pygments_lexer": "ipython3",
   "version": "3.7.0"
  }
 },
 "nbformat": 4,
 "nbformat_minor": 2
}
